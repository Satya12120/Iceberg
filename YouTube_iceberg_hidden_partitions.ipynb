{
 "cells": [
  {
   "cell_type": "markdown",
   "metadata": {},
   "source": [
    "# Learn about Iceberg table \"Hidden Partitions\"."
   ]
  },
  {
   "cell_type": "code",
   "execution_count": 1,
   "metadata": {},
   "outputs": [
    {
     "name": "stdout",
     "output_type": "stream",
     "text": [
      ":: loading settings :: url = jar:file:/Users/satyak/.pyenv/versions/3.9.1/lib/python3.9/site-packages/pyspark/jars/ivy-2.5.1.jar!/org/apache/ivy/core/settings/ivysettings.xml\n"
     ]
    },
    {
     "name": "stderr",
     "output_type": "stream",
     "text": [
      "Ivy Default Cache set to: /Users/satyak/.ivy2/cache\n",
      "The jars for the packages stored in: /Users/satyak/.ivy2/jars\n",
      "org.apache.iceberg#iceberg-spark-runtime-3.3_2.12 added as a dependency\n",
      ":: resolving dependencies :: org.apache.spark#spark-submit-parent-98ceea84-7081-44e5-bb05-3e0b5e2417d7;1.0\n",
      "\tconfs: [default]\n",
      "\tfound org.apache.iceberg#iceberg-spark-runtime-3.3_2.12;1.5.0 in central\n",
      ":: resolution report :: resolve 135ms :: artifacts dl 8ms\n",
      "\t:: modules in use:\n",
      "\torg.apache.iceberg#iceberg-spark-runtime-3.3_2.12;1.5.0 from central in [default]\n",
      "\t---------------------------------------------------------------------\n",
      "\t|                  |            modules            ||   artifacts   |\n",
      "\t|       conf       | number| search|dwnlded|evicted|| number|dwnlded|\n",
      "\t---------------------------------------------------------------------\n",
      "\t|      default     |   1   |   0   |   0   |   0   ||   1   |   0   |\n",
      "\t---------------------------------------------------------------------\n",
      ":: retrieving :: org.apache.spark#spark-submit-parent-98ceea84-7081-44e5-bb05-3e0b5e2417d7\n",
      "\tconfs: [default]\n",
      "\t0 artifacts copied, 1 already retrieved (0kB/9ms)\n"
     ]
    },
    {
     "name": "stdout",
     "output_type": "stream",
     "text": [
      "24/07/19 09:02:51 WARN NativeCodeLoader: Unable to load native-hadoop library for your platform... using builtin-java classes where applicable\n"
     ]
    },
    {
     "name": "stderr",
     "output_type": "stream",
     "text": [
      "Setting default log level to \"WARN\".\n",
      "To adjust logging level use sc.setLogLevel(newLevel). For SparkR, use setLogLevel(newLevel).\n"
     ]
    },
    {
     "name": "stdout",
     "output_type": "stream",
     "text": [
      "Vector(spark://localhost:61532/jars/org.apache.iceberg_iceberg-spark-runtime-3.3_2.12-1.5.0.jar)\n"
     ]
    }
   ],
   "source": [
    "import import_ipynb\n",
    "%run  /Users/satyak/iceberg/demo/Configuration.ipynb"
   ]
  },
  {
   "cell_type": "code",
   "execution_count": 2,
   "metadata": {},
   "outputs": [],
   "source": [
    "prod_db_nm=\"db2\""
   ]
  },
  {
   "cell_type": "code",
   "execution_count": 3,
   "metadata": {},
   "outputs": [
    {
     "data": {
      "text/plain": [
       "DataFrame[]"
      ]
     },
     "execution_count": 3,
     "metadata": {},
     "output_type": "execute_result"
    }
   ],
   "source": [
    "spark.sql(f\"\"\"drop database if EXISTS spark_catalog.db2 cascade\"\"\")"
   ]
  },
  {
   "cell_type": "code",
   "execution_count": 4,
   "metadata": {},
   "outputs": [
    {
     "data": {
      "text/plain": [
       "DataFrame[]"
      ]
     },
     "execution_count": 4,
     "metadata": {},
     "output_type": "execute_result"
    }
   ],
   "source": [
    "spark.sql(f\"\"\"CREATE database spark_catalog.\"\"\"+prod_db_nm)"
   ]
  },
  {
   "cell_type": "markdown",
   "metadata": {},
   "source": [
    "### Create Hive Table"
   ]
  },
  {
   "cell_type": "code",
   "execution_count": 5,
   "metadata": {},
   "outputs": [
    {
     "data": {
      "text/plain": [
       "DataFrame[]"
      ]
     },
     "execution_count": 5,
     "metadata": {},
     "output_type": "execute_result"
    }
   ],
   "source": [
    "spark.sql(f\"\"\"drop TABLE IF  EXISTS spark_catalog.\"\"\"+prod_db_nm+\"\"\".order_hive\"\"\" )"
   ]
  },
  {
   "cell_type": "code",
   "execution_count": 6,
   "metadata": {},
   "outputs": [
    {
     "data": {
      "text/plain": [
       "DataFrame[]"
      ]
     },
     "execution_count": 6,
     "metadata": {},
     "output_type": "execute_result"
    }
   ],
   "source": [
    "spark.sql(f\"\"\"CREATE external TABLE IF NOT EXISTS spark_catalog.\"\"\"+prod_db_nm+\"\"\".order_hive ( \n",
    "order_id BIGINT, \n",
    "customer_id BIGINT, \n",
    "order_amount DECIMAL(10, 2), \n",
    "Order_ts  timestamp,\n",
    "order_dt date,\n",
    "order_hr int,\n",
    "st string)\n",
    "USING orc PARTITIONED BY (order_dt, order_hr, st) LOCATION '/tmp/ozone1/warehouse/db2/order_hive' \"\"\")"
   ]
  },
  {
   "cell_type": "code",
   "execution_count": 7,
   "metadata": {},
   "outputs": [
    {
     "name": "stderr",
     "output_type": "stream",
     "text": [
      "                                                                                \r"
     ]
    },
    {
     "data": {
      "text/plain": [
       "DataFrame[]"
      ]
     },
     "execution_count": 7,
     "metadata": {},
     "output_type": "execute_result"
    }
   ],
   "source": [
    "spark.sql(\"insert into spark_catalog.db2.order_hive values(1, 3,  19900.76,timestamp '2023-12-25T10:31:40', date '2023-12-25', 10, 'IL')\")\n",
    "spark.sql(\"insert into spark_catalog.db2.order_hive values(2, 39, 19900.76,timestamp '2023-12-25T10:31:40', date '2023-12-25', 10, 'IL')\")\n",
    "spark.sql(\"insert into spark_catalog.db2.order_hive values(3, 31, 19900.76,timestamp '2023-12-25T10:31:40', date '2023-12-25', 11, 'IL')\")\n",
    "spark.sql(\"insert into spark_catalog.db2.order_hive values(4, 32, 19900.76,timestamp '2023-12-25T10:31:40', date '2023-12-25', 12, 'IL')\")\n",
    "spark.sql(\"insert into spark_catalog.db2.order_hive values(5, 33, 19900.76,timestamp '2023-12-25T10:31:40', date '2023-12-25', 13, 'IL')\")\n",
    "spark.sql(\"insert into spark_catalog.db2.order_hive values(6, 33, 19900.76,timestamp '2023-12-25T10:31:40', date '2023-12-25', 14, 'IL')\")\n",
    "spark.sql(\"insert into spark_catalog.db2.order_hive values(7, 34, 19900.76,timestamp '2023-12-25T10:31:40', date '2023-12-25', 14, 'IL')\")\n",
    "spark.sql(\"insert into spark_catalog.db2.order_hive values(8, 35, 19900.76,timestamp '2023-12-25T10:31:40', date '2023-12-25', 15, 'IL')\")\n",
    "spark.sql(\"insert into spark_catalog.db2.order_hive values(9, 36, 19900.76,timestamp '2023-12-25T10:31:40', date '2023-12-25', 15, 'IL')\")\n",
    "spark.sql(\"insert into spark_catalog.db2.order_hive values(10,37, 19900.76,timestamp '2023-12-25T10:31:40', date '2023-12-25', 15, 'IL')\")\n",
    "spark.sql(\"insert into spark_catalog.db2.order_hive values(11,38, 19900.76,timestamp '2023-12-25T10:31:40', date '2023-12-25', 16, 'IL')\")\n",
    "          "
   ]
  },
  {
   "cell_type": "code",
   "execution_count": 8,
   "metadata": {},
   "outputs": [
    {
     "name": "stdout",
     "output_type": "stream",
     "text": [
      "+--------+-----------+------------+-------------------+----------+--------+---+\n",
      "|order_id|customer_id|order_amount|Order_ts           |order_dt  |order_hr|st |\n",
      "+--------+-----------+------------+-------------------+----------+--------+---+\n",
      "|10      |37         |19900.76    |2023-12-25 10:31:40|2023-12-25|15      |IL |\n",
      "|10      |37         |19900.76    |2023-12-25 10:31:40|2023-12-25|15      |IL |\n",
      "|3       |31         |19900.76    |2023-12-25 10:31:40|2023-12-25|11      |IL |\n",
      "|3       |31         |19900.76    |2023-12-25 10:31:40|2023-12-25|11      |IL |\n",
      "|7       |34         |19900.76    |2023-12-25 10:31:40|2023-12-25|14      |IL |\n",
      "|7       |34         |19900.76    |2023-12-25 10:31:40|2023-12-25|14      |IL |\n",
      "|11      |38         |19900.76    |2023-12-25 10:31:40|2023-12-25|16      |IL |\n",
      "|11      |38         |19900.76    |2023-12-25 10:31:40|2023-12-25|16      |IL |\n",
      "|9       |36         |19900.76    |2023-12-25 10:31:40|2023-12-25|15      |IL |\n",
      "|8       |35         |19900.76    |2023-12-25 10:31:40|2023-12-25|15      |IL |\n",
      "|9       |36         |19900.76    |2023-12-25 10:31:40|2023-12-25|15      |IL |\n",
      "|8       |35         |19900.76    |2023-12-25 10:31:40|2023-12-25|15      |IL |\n",
      "|4       |32         |19900.76    |2023-12-25 10:31:40|2023-12-25|12      |IL |\n",
      "|4       |32         |19900.76    |2023-12-25 10:31:40|2023-12-25|12      |IL |\n",
      "|5       |33         |19900.76    |2023-12-25 10:31:40|2023-12-25|13      |IL |\n",
      "|5       |33         |19900.76    |2023-12-25 10:31:40|2023-12-25|13      |IL |\n",
      "|2       |39         |19900.76    |2023-12-25 10:31:40|2023-12-25|10      |IL |\n",
      "|1       |3          |19900.76    |2023-12-25 10:31:40|2023-12-25|10      |IL |\n",
      "|2       |39         |19900.76    |2023-12-25 10:31:40|2023-12-25|10      |IL |\n",
      "|1       |3          |19900.76    |2023-12-25 10:31:40|2023-12-25|10      |IL |\n",
      "|6       |33         |19900.76    |2023-12-25 10:31:40|2023-12-25|14      |IL |\n",
      "|6       |33         |19900.76    |2023-12-25 10:31:40|2023-12-25|14      |IL |\n",
      "+--------+-----------+------------+-------------------+----------+--------+---+\n",
      "\n"
     ]
    }
   ],
   "source": [
    "\n",
    "spark.sql(\"select * from spark_catalog.\"+prod_db_nm+\".order_hive \").show(100,False)"
   ]
  },
  {
   "cell_type": "markdown",
   "metadata": {},
   "source": [
    "### Create Iceberg Tables"
   ]
  },
  {
   "cell_type": "code",
   "execution_count": 9,
   "metadata": {
    "tags": []
   },
   "outputs": [
    {
     "data": {
      "text/plain": [
       "DataFrame[]"
      ]
     },
     "execution_count": 9,
     "metadata": {},
     "output_type": "execute_result"
    }
   ],
   "source": [
    "spark.sql(\"use  iceberg_catalog.\"+prod_db_nm)"
   ]
  },
  {
   "cell_type": "markdown",
   "metadata": {},
   "source": [
    "# List the available tables."
   ]
  },
  {
   "cell_type": "code",
   "execution_count": 10,
   "metadata": {
    "tags": []
   },
   "outputs": [
    {
     "name": "stdout",
     "output_type": "stream",
     "text": [
      "+---------+----------+-----------+\n",
      "|namespace|tableName |isTemporary|\n",
      "+---------+----------+-----------+\n",
      "|db2      |order_h1  |false      |\n",
      "|db2      |order_h2  |false      |\n",
      "|db2      |customer_h|false      |\n",
      "|db2      |orders    |false      |\n",
      "|db2      |order_h   |false      |\n",
      "+---------+----------+-----------+\n",
      "\n"
     ]
    }
   ],
   "source": [
    "spark.sql(\"show tables\").show(100,False)\n"
   ]
  },
  {
   "cell_type": "code",
   "execution_count": 11,
   "metadata": {},
   "outputs": [
    {
     "data": {
      "text/plain": [
       "DataFrame[]"
      ]
     },
     "execution_count": 11,
     "metadata": {},
     "output_type": "execute_result"
    }
   ],
   "source": [
    "spark.sql(f\"\"\"drop table if EXISTS iceberg_catalog.\"\"\"+prod_db_nm+\"\"\".order_h \"\"\")"
   ]
  },
  {
   "cell_type": "code",
   "execution_count": 12,
   "metadata": {
    "tags": []
   },
   "outputs": [
    {
     "data": {
      "text/plain": [
       "DataFrame[]"
      ]
     },
     "execution_count": 12,
     "metadata": {},
     "output_type": "execute_result"
    }
   ],
   "source": [
    "spark.sql(f\"\"\"CREATE TABLE IF NOT EXISTS iceberg_catalog.\"\"\"+prod_db_nm+\"\"\".order_h ( \n",
    "order_id BIGINT, \n",
    "customer_id BIGINT, \n",
    "order_amount DECIMAL(10, 2), \n",
    "Order_ts  timestamp,\n",
    "st string\n",
    ")TBLPROPERTIES ( \n",
    " 'write.format.default'='parquet', \n",
    " 'write.delete.mode'='merge-on-read',\n",
    " 'write.update.mode'='merge-on-read',\n",
    " 'write.merge.mode'='merge-on-read', \n",
    " 'format-version' = '2')\n",
    "PARTITIONED BY ( year(Order_ts), st) \"\"\")\n"
   ]
  },
  {
   "cell_type": "code",
   "execution_count": 13,
   "metadata": {},
   "outputs": [
    {
     "data": {
      "text/plain": [
       "DataFrame[]"
      ]
     },
     "execution_count": 13,
     "metadata": {},
     "output_type": "execute_result"
    }
   ],
   "source": [
    "spark.sql(f\"\"\"drop table if EXISTS iceberg_catalog.\"\"\"+prod_db_nm+\"\"\".customer_h \"\"\")"
   ]
  },
  {
   "cell_type": "code",
   "execution_count": 14,
   "metadata": {},
   "outputs": [
    {
     "data": {
      "text/plain": [
       "DataFrame[]"
      ]
     },
     "execution_count": 14,
     "metadata": {},
     "output_type": "execute_result"
    }
   ],
   "source": [
    "spark.sql(f\"\"\"CREATE TABLE IF NOT EXISTS iceberg_catalog.\"\"\"+prod_db_nm+\"\"\".customer_h ( \n",
    "customer_id BIGINT, \n",
    "name string, \n",
    "st  string\n",
    ")TBLPROPERTIES ( \n",
    " 'write.format.default'='parquet', \n",
    " 'write.delete.mode'='merge-on-read',\n",
    " 'write.update.mode'='merge-on-read',\n",
    " 'write.merge.mode'='merge-on-read', \n",
    " 'format-version' = '2')\n",
    "PARTITIONED BY ( st)  \"\"\")"
   ]
  },
  {
   "cell_type": "code",
   "execution_count": null,
   "metadata": {},
   "outputs": [],
   "source": []
  },
  {
   "cell_type": "markdown",
   "metadata": {},
   "source": [
    "# Check the metadata location of the Iceberg table."
   ]
  },
  {
   "cell_type": "code",
   "execution_count": 15,
   "metadata": {
    "tags": []
   },
   "outputs": [
    {
     "name": "stdout",
     "output_type": "stream",
     "text": [
      "total 16\r\n",
      "-rw-r--r--  1 satyak  wheel  1741 Jul 19 09:03 v1.metadata.json\r\n",
      "-rw-r--r--  1 satyak  wheel     1 Jul 19 09:03 version-hint.text\r\n"
     ]
    }
   ],
   "source": [
    "!ls -l /tmp/ozone1/warehouse/db2/order_h/metadata\n"
   ]
  },
  {
   "cell_type": "code",
   "execution_count": 16,
   "metadata": {
    "tags": []
   },
   "outputs": [
    {
     "name": "stderr",
     "output_type": "stream",
     "text": [
      "                                                                                \r"
     ]
    },
    {
     "data": {
      "text/plain": [
       "DataFrame[]"
      ]
     },
     "execution_count": 16,
     "metadata": {},
     "output_type": "execute_result"
    }
   ],
   "source": [
    "spark.sql(\"insert into iceberg_catalog.db2.order_h values(1, 31, 19900.76,timestamp '2023-12-25T10:31:40', 'IL')\")\n",
    "spark.sql(\"insert into iceberg_catalog.db2.order_h values(2, 32, 19900.76,timestamp '2023-12-25T10:31:40', 'WI')\")\n",
    "spark.sql(\"insert into iceberg_catalog.db2.order_h values(3, 33, 19900.76,timestamp '2023-12-25T10:31:40', 'IL')\")\n",
    "spark.sql(\"insert into iceberg_catalog.db2.order_h values(4, 34, 19900.76,timestamp '2023-12-25T10:31:40', 'IL')\")\n",
    "spark.sql(\"insert into iceberg_catalog.db2.order_h values(5, 35, 19900.76,timestamp '2023-12-25T10:31:40', 'IL')\")\n",
    "spark.sql(\"insert into iceberg_catalog.db2.order_h values(6, 36, 19900.76,timestamp '2023-12-25T10:31:40', 'CA')\")\n",
    "spark.sql(\"insert into iceberg_catalog.db2.order_h values(7, 37, 19900.76,timestamp '2023-12-25T10:31:40', 'IL')\")\n",
    "spark.sql(\"insert into iceberg_catalog.db2.order_h values(8, 38, 19900.76,timestamp '2023-12-25T10:31:40', 'IL')\")\n",
    "spark.sql(\"insert into iceberg_catalog.db2.order_h values(9, 39, 19900.76,timestamp '2023-12-25T10:31:40', 'MI')\")\n",
    "spark.sql(\"insert into iceberg_catalog.db2.order_h values(10, 40, 19900.76,timestamp '2023-12-25T10:31:40', 'IL')\")\n",
    "spark.sql(\"insert into iceberg_catalog.db2.order_h values(11, 41, 19900.76,timestamp '2023-12-25T10:31:40', 'MI')\")\n"
   ]
  },
  {
   "cell_type": "code",
   "execution_count": 17,
   "metadata": {},
   "outputs": [
    {
     "data": {
      "text/plain": [
       "DataFrame[]"
      ]
     },
     "execution_count": 17,
     "metadata": {},
     "output_type": "execute_result"
    }
   ],
   "source": [
    "spark.sql(\"insert into iceberg_catalog.db2.order_h values(11, 41, 19900.76,timestamp '2023-12-25T11:31:40', 'MI')\")\n"
   ]
  },
  {
   "cell_type": "code",
   "execution_count": 18,
   "metadata": {},
   "outputs": [
    {
     "data": {
      "text/plain": [
       "DataFrame[]"
      ]
     },
     "execution_count": 18,
     "metadata": {},
     "output_type": "execute_result"
    }
   ],
   "source": [
    "spark.sql(\"insert into iceberg_catalog.db2.customer_h values(31, 'Bob31','IL')\")\n",
    "spark.sql(\"insert into iceberg_catalog.db2.customer_h values(32, 'Bob32','WI')\")\n",
    "spark.sql(\"insert into iceberg_catalog.db2.customer_h values(33, 'Bob33','IL')\")\n",
    "spark.sql(\"insert into iceberg_catalog.db2.customer_h values(34, 'Bob34','IL')\")\n",
    "spark.sql(\"insert into iceberg_catalog.db2.customer_h values(35, 'Bob35','IL')\")\n",
    "spark.sql(\"insert into iceberg_catalog.db2.customer_h values(36, 'Bob36','CA')\")\n",
    "spark.sql(\"insert into iceberg_catalog.db2.customer_h values(37, 'Bob37','IL')\")\n",
    "spark.sql(\"insert into iceberg_catalog.db2.customer_h values(38, 'Bob38','IL')\")\n",
    "spark.sql(\"insert into iceberg_catalog.db2.customer_h values(39, 'Bob39','MI')\")\n",
    "spark.sql(\"insert into iceberg_catalog.db2.customer_h values(40, 'Bob40','IL')\")\n",
    "spark.sql(\"insert into iceberg_catalog.db2.customer_h values(41, 'Bob41','MI')\")\n"
   ]
  },
  {
   "cell_type": "markdown",
   "metadata": {},
   "source": [
    "# Query the Iceberg table."
   ]
  },
  {
   "cell_type": "code",
   "execution_count": 19,
   "metadata": {
    "tags": []
   },
   "outputs": [
    {
     "name": "stdout",
     "output_type": "stream",
     "text": [
      "+--------+-----------+------------+-------------------+---+\n",
      "|order_id|customer_id|order_amount|Order_ts           |st |\n",
      "+--------+-----------+------------+-------------------+---+\n",
      "|10      |40         |19900.76    |2023-12-25 10:31:40|IL |\n",
      "|11      |41         |19900.76    |2023-12-25 11:31:40|MI |\n",
      "|2       |32         |19900.76    |2023-12-25 10:31:40|WI |\n",
      "|4       |34         |19900.76    |2023-12-25 10:31:40|IL |\n",
      "|9       |39         |19900.76    |2023-12-25 10:31:40|MI |\n",
      "|7       |37         |19900.76    |2023-12-25 10:31:40|IL |\n",
      "|11      |41         |19900.76    |2023-12-25 10:31:40|MI |\n",
      "|5       |35         |19900.76    |2023-12-25 10:31:40|IL |\n",
      "|3       |33         |19900.76    |2023-12-25 10:31:40|IL |\n",
      "|6       |36         |19900.76    |2023-12-25 10:31:40|CA |\n",
      "|8       |38         |19900.76    |2023-12-25 10:31:40|IL |\n",
      "|1       |31         |19900.76    |2023-12-25 10:31:40|IL |\n",
      "+--------+-----------+------------+-------------------+---+\n",
      "\n"
     ]
    }
   ],
   "source": [
    "\n",
    "spark.sql(\"select * from iceberg_catalog.\"+prod_db_nm+\".order_h \").show(100,False)\n"
   ]
  },
  {
   "cell_type": "code",
   "execution_count": 20,
   "metadata": {},
   "outputs": [
    {
     "name": "stdout",
     "output_type": "stream",
     "text": [
      "+-----------+-----+---+\n",
      "|customer_id|name |st |\n",
      "+-----------+-----+---+\n",
      "|39         |Bob39|MI |\n",
      "|41         |Bob41|MI |\n",
      "|31         |Bob31|IL |\n",
      "|34         |Bob34|IL |\n",
      "|33         |Bob33|IL |\n",
      "|37         |Bob37|IL |\n",
      "|35         |Bob35|IL |\n",
      "|38         |Bob38|IL |\n",
      "|36         |Bob36|CA |\n",
      "|32         |Bob32|WI |\n",
      "|40         |Bob40|IL |\n",
      "+-----------+-----+---+\n",
      "\n"
     ]
    }
   ],
   "source": [
    "\n",
    "spark.sql(\"select * from iceberg_catalog.\"+prod_db_nm+\".customer_h \").show(100,False)\n"
   ]
  },
  {
   "cell_type": "markdown",
   "metadata": {},
   "source": [
    "### Check the Iceberg table data files"
   ]
  },
  {
   "cell_type": "code",
   "execution_count": 21,
   "metadata": {
    "tags": []
   },
   "outputs": [
    {
     "name": "stdout",
     "output_type": "stream",
     "text": [
      "/tmp/ozone1/warehouse/db2/order_h/data/Order_ts_year=2023/st=CA:\r\n",
      "total 8\r\n",
      "-rw-r--r--  1 satyak  wheel  1476 Jul 19 09:04 00149-1030-c7897cc9-e78f-40f1-9f0e-8f5c176f22e5-0-00001.parquet\r\n",
      "\r\n",
      "/tmp/ozone1/warehouse/db2/order_h/data/Order_ts_year=2023/st=IL:\r\n",
      "total 56\r\n",
      "-rw-r--r--  1 satyak  wheel  1476 Jul 19 09:04 00074-1231-3e32f5c1-b3a9-4d9b-a251-d6a07f13d1ce-0-00001.parquet\r\n",
      "-rw-r--r--  1 satyak  wheel  1476 Jul 19 09:04 00074-1432-73c71ebf-6562-430a-ac26-f7d684fb48eb-0-00001.parquet\r\n",
      "-rw-r--r--  1 satyak  wheel  1476 Jul 19 09:04 00074-1834-fc0c190b-f8d8-4614-891f-d980173f3f49-0-00001.parquet\r\n",
      "-rw-r--r--  1 satyak  wheel  1476 Jul 19 09:04 00074-25-d0d8ac17-10cf-439f-a988-9028f2317920-0-00001.parquet\r\n",
      "-rw-r--r--  1 satyak  wheel  1476 Jul 19 09:04 00074-427-41eb14c7-3e91-48b3-886d-ef2341e0cf3a-0-00001.parquet\r\n",
      "-rw-r--r--  1 satyak  wheel  1476 Jul 19 09:04 00074-628-4a2be96b-9eab-40a8-ba8f-8a748073c901-0-00001.parquet\r\n",
      "-rw-r--r--  1 satyak  wheel  1476 Jul 19 09:04 00074-829-43097a35-5dc3-4321-855b-fc9553d4b5ab-0-00001.parquet\r\n",
      "\r\n",
      "/tmp/ozone1/warehouse/db2/order_h/data/Order_ts_year=2023/st=MI:\r\n",
      "total 24\r\n",
      "-rw-r--r--  1 satyak  wheel  1476 Jul 19 09:04 00161-1633-85a7368c-fe8d-4044-86f8-7dd5a31e5d8b-0-00001.parquet\r\n",
      "-rw-r--r--  1 satyak  wheel  1476 Jul 19 09:04 00161-2035-1a382e5a-7544-4353-9d90-5a5c6181b34e-0-00001.parquet\r\n",
      "-rw-r--r--  1 satyak  wheel  1476 Jul 19 09:04 00161-2236-fb9a00bb-16e2-48bb-b94e-be614d8840f0-0-00001.parquet\r\n",
      "\r\n",
      "/tmp/ozone1/warehouse/db2/order_h/data/Order_ts_year=2023/st=WI:\r\n",
      "total 8\r\n",
      "-rw-r--r--  1 satyak  wheel  1475 Jul 19 09:04 00127-226-5fc91e93-af1c-4212-bbae-f723307616bb-0-00001.parquet\r\n"
     ]
    }
   ],
   "source": [
    "!ls -l /tmp/ozone1/warehouse/db2/order_h/data/*/*\n"
   ]
  },
  {
   "cell_type": "code",
   "execution_count": 22,
   "metadata": {},
   "outputs": [
    {
     "name": "stdout",
     "output_type": "stream",
     "text": [
      "/tmp/ozone1/warehouse/db2/customer_h/data/st=CA:\r\n",
      "total 8\r\n",
      "-rw-r--r--  1 satyak  wheel  890 Jul 19 09:04 00065-3442-78e1dfad-2ffe-451e-8ebb-41e504ed2306-0-00001.parquet\r\n",
      "\r\n",
      "/tmp/ozone1/warehouse/db2/customer_h/data/st=IL:\r\n",
      "total 56\r\n",
      "-rw-r--r--  1 satyak  wheel  890 Jul 19 09:04 00080-2437-1eb45764-1b0e-4ddb-9c65-6b270acd75c6-0-00001.parquet\r\n",
      "-rw-r--r--  1 satyak  wheel  890 Jul 19 09:04 00080-2839-2e2a08cf-f321-4d40-8403-fd0d93534003-0-00001.parquet\r\n",
      "-rw-r--r--  1 satyak  wheel  890 Jul 19 09:04 00080-3040-5bd60824-73c3-4ff5-833e-c3d23c913ee4-0-00001.parquet\r\n",
      "-rw-r--r--  1 satyak  wheel  890 Jul 19 09:04 00080-3241-fe6c4310-0640-4f21-85c6-0f35281480cc-0-00001.parquet\r\n",
      "-rw-r--r--  1 satyak  wheel  890 Jul 19 09:04 00080-3643-1405d1f4-4349-4abb-839a-bb89cf612671-0-00001.parquet\r\n",
      "-rw-r--r--  1 satyak  wheel  890 Jul 19 09:04 00080-3844-77286856-bf08-4804-b1d1-724d61977fb9-0-00001.parquet\r\n",
      "-rw-r--r--  1 satyak  wheel  890 Jul 19 09:04 00080-4246-ed2c6125-cc25-435b-985d-309656c40602-0-00001.parquet\r\n",
      "\r\n",
      "/tmp/ozone1/warehouse/db2/customer_h/data/st=MI:\r\n",
      "total 16\r\n",
      "-rw-r--r--  1 satyak  wheel  890 Jul 19 09:04 00054-4045-0763eb69-8400-47ca-afef-b0a5c21497d3-0-00001.parquet\r\n",
      "-rw-r--r--  1 satyak  wheel  890 Jul 19 09:04 00054-4447-fda86f56-461e-4119-9a12-24ef32db49b3-0-00001.parquet\r\n",
      "\r\n",
      "/tmp/ozone1/warehouse/db2/customer_h/data/st=WI:\r\n",
      "total 8\r\n",
      "-rw-r--r--  1 satyak  wheel  889 Jul 19 09:04 00059-2638-d06b71c4-729d-4554-ae98-b024dc5720ff-0-00001.parquet\r\n"
     ]
    }
   ],
   "source": [
    "!ls -l /tmp/ozone1/warehouse/db2/customer_h/data/*"
   ]
  },
  {
   "cell_type": "markdown",
   "metadata": {},
   "source": [
    "# Hidden Partitoin Test"
   ]
  },
  {
   "cell_type": "code",
   "execution_count": 23,
   "metadata": {},
   "outputs": [
    {
     "data": {
      "text/html": [
       "\n",
       "            <div>\n",
       "                <p><b>SparkSession - in-memory</b></p>\n",
       "                \n",
       "        <div>\n",
       "            <p><b>SparkContext</b></p>\n",
       "\n",
       "            <p><a href=\"http://localhost:4040\">Spark UI</a></p>\n",
       "\n",
       "            <dl>\n",
       "              <dt>Version</dt>\n",
       "                <dd><code>v3.3.2</code></dd>\n",
       "              <dt>Master</dt>\n",
       "                <dd><code>local[*]</code></dd>\n",
       "              <dt>AppName</dt>\n",
       "                <dd><code>pyspark-shell</code></dd>\n",
       "            </dl>\n",
       "        </div>\n",
       "        \n",
       "            </div>\n",
       "        "
      ],
      "text/plain": [
       "<pyspark.sql.session.SparkSession at 0x105864d90>"
      ]
     },
     "execution_count": 23,
     "metadata": {},
     "output_type": "execute_result"
    }
   ],
   "source": [
    "spark"
   ]
  },
  {
   "cell_type": "markdown",
   "metadata": {},
   "source": [
    "# After every query run check spark UI for plan verification"
   ]
  },
  {
   "cell_type": "code",
   "execution_count": null,
   "metadata": {},
   "outputs": [],
   "source": []
  },
  {
   "cell_type": "markdown",
   "metadata": {},
   "source": [
    "### Query the entire table and "
   ]
  },
  {
   "cell_type": "code",
   "execution_count": 24,
   "metadata": {
    "tags": []
   },
   "outputs": [
    {
     "name": "stdout",
     "output_type": "stream",
     "text": [
      "+--------+-----------+------------+-------------------+---+\n",
      "|order_id|customer_id|order_amount|Order_ts           |st |\n",
      "+--------+-----------+------------+-------------------+---+\n",
      "|9       |39         |19900.76    |2023-12-25 10:31:40|MI |\n",
      "|11      |41         |19900.76    |2023-12-25 11:31:40|MI |\n",
      "|5       |35         |19900.76    |2023-12-25 10:31:40|IL |\n",
      "|3       |33         |19900.76    |2023-12-25 10:31:40|IL |\n",
      "|4       |34         |19900.76    |2023-12-25 10:31:40|IL |\n",
      "|6       |36         |19900.76    |2023-12-25 10:31:40|CA |\n",
      "|7       |37         |19900.76    |2023-12-25 10:31:40|IL |\n",
      "|2       |32         |19900.76    |2023-12-25 10:31:40|WI |\n",
      "|11      |41         |19900.76    |2023-12-25 10:31:40|MI |\n",
      "|10      |40         |19900.76    |2023-12-25 10:31:40|IL |\n",
      "|8       |38         |19900.76    |2023-12-25 10:31:40|IL |\n",
      "|1       |31         |19900.76    |2023-12-25 10:31:40|IL |\n",
      "+--------+-----------+------------+-------------------+---+\n",
      "\n"
     ]
    }
   ],
   "source": [
    "\n",
    "spark.sql(\"select * from iceberg_catalog.\"+prod_db_nm+\".order_h\").show(100,False)\n"
   ]
  },
  {
   "cell_type": "markdown",
   "metadata": {},
   "source": [
    "### Query one or two rows and check how many files are read. "
   ]
  },
  {
   "cell_type": "code",
   "execution_count": 32,
   "metadata": {
    "tags": []
   },
   "outputs": [
    {
     "name": "stdout",
     "output_type": "stream",
     "text": [
      "+--------+-----------+------------+-------------------+---+\n",
      "|order_id|customer_id|order_amount|Order_ts           |st |\n",
      "+--------+-----------+------------+-------------------+---+\n",
      "|10      |40         |19900.76    |2023-12-25 10:31:40|IL |\n",
      "+--------+-----------+------------+-------------------+---+\n",
      "\n"
     ]
    }
   ],
   "source": [
    "spark.sql(\"select * from iceberg_catalog.\"+prod_db_nm+\".order_h where order_id=10\").show(100,False)"
   ]
  },
  {
   "cell_type": "code",
   "execution_count": 26,
   "metadata": {
    "tags": []
   },
   "outputs": [
    {
     "name": "stdout",
     "output_type": "stream",
     "text": [
      "+--------+-----------+------------+-------------------+---+\n",
      "|order_id|customer_id|order_amount|Order_ts           |st |\n",
      "+--------+-----------+------------+-------------------+---+\n",
      "|7       |37         |19900.76    |2023-12-25 10:31:40|IL |\n",
      "|8       |38         |19900.76    |2023-12-25 10:31:40|IL |\n",
      "+--------+-----------+------------+-------------------+---+\n",
      "\n"
     ]
    }
   ],
   "source": [
    "spark.sql(\"select * from iceberg_catalog.\"+prod_db_nm+\".order_h where order_id in(8,7)\").show(100,False)"
   ]
  },
  {
   "cell_type": "code",
   "execution_count": 27,
   "metadata": {},
   "outputs": [
    {
     "name": "stdout",
     "output_type": "stream",
     "text": [
      "+--------+-----------+------------+-------------------+---+\n",
      "|order_id|customer_id|order_amount|Order_ts           |st |\n",
      "+--------+-----------+------------+-------------------+---+\n",
      "|3       |33         |19900.76    |2023-12-25 10:31:40|IL |\n",
      "|2       |32         |19900.76    |2023-12-25 10:31:40|WI |\n",
      "|5       |35         |19900.76    |2023-12-25 10:31:40|IL |\n",
      "|10      |40         |19900.76    |2023-12-25 10:31:40|IL |\n",
      "|11      |41         |19900.76    |2023-12-25 10:31:40|MI |\n",
      "|6       |36         |19900.76    |2023-12-25 10:31:40|CA |\n",
      "|4       |34         |19900.76    |2023-12-25 10:31:40|IL |\n",
      "|9       |39         |19900.76    |2023-12-25 10:31:40|MI |\n",
      "|7       |37         |19900.76    |2023-12-25 10:31:40|IL |\n",
      "|11      |41         |19900.76    |2023-12-25 11:31:40|MI |\n",
      "|8       |38         |19900.76    |2023-12-25 10:31:40|IL |\n",
      "|1       |31         |19900.76    |2023-12-25 10:31:40|IL |\n",
      "+--------+-----------+------------+-------------------+---+\n",
      "\n"
     ]
    }
   ],
   "source": [
    "\n",
    "spark.sql(\"select * from iceberg_catalog.\"+prod_db_nm+\".order_h\").show(100,False)"
   ]
  },
  {
   "cell_type": "code",
   "execution_count": 28,
   "metadata": {
    "tags": []
   },
   "outputs": [
    {
     "name": "stdout",
     "output_type": "stream",
     "text": [
      "+--------+-----------+------------+-------------------+---+\n",
      "|order_id|customer_id|order_amount|Order_ts           |st |\n",
      "+--------+-----------+------------+-------------------+---+\n",
      "|6       |36         |19900.76    |2023-12-25 10:31:40|CA |\n",
      "+--------+-----------+------------+-------------------+---+\n",
      "\n"
     ]
    }
   ],
   "source": [
    "spark.sql(\"select * from iceberg_catalog.\"+prod_db_nm+\".order_h where customer_id=36\").show(100,False)\n"
   ]
  },
  {
   "cell_type": "markdown",
   "metadata": {},
   "source": [
    "# Execute Hive SQLs and Check Partition Pruning"
   ]
  },
  {
   "cell_type": "markdown",
   "metadata": {},
   "source": [
    "For Hive, we need to add the partition key in an SQL 'WHERE' clause to take advantage of partition pruning.\n"
   ]
  },
  {
   "cell_type": "code",
   "execution_count": 29,
   "metadata": {
    "tags": []
   },
   "outputs": [
    {
     "name": "stdout",
     "output_type": "stream",
     "text": [
      "+--------+-----------+------------+-------------------+----------+--------+---+\n",
      "|order_id|customer_id|order_amount|Order_ts           |order_dt  |order_hr|st |\n",
      "+--------+-----------+------------+-------------------+----------+--------+---+\n",
      "|10      |37         |19900.76    |2023-12-25 10:31:40|2023-12-25|15      |IL |\n",
      "|10      |37         |19900.76    |2023-12-25 10:31:40|2023-12-25|15      |IL |\n",
      "|3       |31         |19900.76    |2023-12-25 10:31:40|2023-12-25|11      |IL |\n",
      "|3       |31         |19900.76    |2023-12-25 10:31:40|2023-12-25|11      |IL |\n",
      "|7       |34         |19900.76    |2023-12-25 10:31:40|2023-12-25|14      |IL |\n",
      "|7       |34         |19900.76    |2023-12-25 10:31:40|2023-12-25|14      |IL |\n",
      "|11      |38         |19900.76    |2023-12-25 10:31:40|2023-12-25|16      |IL |\n",
      "|11      |38         |19900.76    |2023-12-25 10:31:40|2023-12-25|16      |IL |\n",
      "|9       |36         |19900.76    |2023-12-25 10:31:40|2023-12-25|15      |IL |\n",
      "|8       |35         |19900.76    |2023-12-25 10:31:40|2023-12-25|15      |IL |\n",
      "|9       |36         |19900.76    |2023-12-25 10:31:40|2023-12-25|15      |IL |\n",
      "|8       |35         |19900.76    |2023-12-25 10:31:40|2023-12-25|15      |IL |\n",
      "|4       |32         |19900.76    |2023-12-25 10:31:40|2023-12-25|12      |IL |\n",
      "|4       |32         |19900.76    |2023-12-25 10:31:40|2023-12-25|12      |IL |\n",
      "|5       |33         |19900.76    |2023-12-25 10:31:40|2023-12-25|13      |IL |\n",
      "|5       |33         |19900.76    |2023-12-25 10:31:40|2023-12-25|13      |IL |\n",
      "|2       |39         |19900.76    |2023-12-25 10:31:40|2023-12-25|10      |IL |\n",
      "|1       |3          |19900.76    |2023-12-25 10:31:40|2023-12-25|10      |IL |\n",
      "|2       |39         |19900.76    |2023-12-25 10:31:40|2023-12-25|10      |IL |\n",
      "|1       |3          |19900.76    |2023-12-25 10:31:40|2023-12-25|10      |IL |\n",
      "|6       |33         |19900.76    |2023-12-25 10:31:40|2023-12-25|14      |IL |\n",
      "|6       |33         |19900.76    |2023-12-25 10:31:40|2023-12-25|14      |IL |\n",
      "+--------+-----------+------------+-------------------+----------+--------+---+\n",
      "\n"
     ]
    }
   ],
   "source": [
    "\n",
    "spark.sql(\"select * from spark_catalog.\"+prod_db_nm+\".order_hive\").show(100,False)\n"
   ]
  },
  {
   "cell_type": "code",
   "execution_count": 30,
   "metadata": {
    "tags": []
   },
   "outputs": [
    {
     "name": "stdout",
     "output_type": "stream",
     "text": [
      "+--------+-----------+------------+-------------------+----------+--------+---+\n",
      "|order_id|customer_id|order_amount|Order_ts           |order_dt  |order_hr|st |\n",
      "+--------+-----------+------------+-------------------+----------+--------+---+\n",
      "|10      |37         |19900.76    |2023-12-25 10:31:40|2023-12-25|15      |IL |\n",
      "|10      |37         |19900.76    |2023-12-25 10:31:40|2023-12-25|15      |IL |\n",
      "+--------+-----------+------------+-------------------+----------+--------+---+\n",
      "\n"
     ]
    }
   ],
   "source": [
    "spark.sql(\"select * from spark_catalog.\"+prod_db_nm+\".order_hive where order_id =10\").show(100,False)\n"
   ]
  },
  {
   "cell_type": "code",
   "execution_count": 31,
   "metadata": {
    "tags": []
   },
   "outputs": [
    {
     "name": "stdout",
     "output_type": "stream",
     "text": [
      "+--------+-----------+------------+-------------------+----------+--------+---+\n",
      "|order_id|customer_id|order_amount|Order_ts           |order_dt  |order_hr|st |\n",
      "+--------+-----------+------------+-------------------+----------+--------+---+\n",
      "|10      |37         |19900.76    |2023-12-25 10:31:40|2023-12-25|15      |IL |\n",
      "|10      |37         |19900.76    |2023-12-25 10:31:40|2023-12-25|15      |IL |\n",
      "+--------+-----------+------------+-------------------+----------+--------+---+\n",
      "\n"
     ]
    }
   ],
   "source": [
    "spark.sql(\"\"\"select * from spark_catalog.\"\"\"+prod_db_nm+\"\"\".order_hive \n",
    "          where order_id =10 \n",
    "          and order_dt='2023-12-25' \n",
    "          and order_hr=15 \n",
    "          and st ='IL'  \"\"\").show(100,False)\n"
   ]
  },
  {
   "cell_type": "code",
   "execution_count": null,
   "metadata": {},
   "outputs": [],
   "source": []
  },
  {
   "cell_type": "markdown",
   "metadata": {},
   "source": [
    "## Iceberg Joins."
   ]
  },
  {
   "cell_type": "code",
   "execution_count": 33,
   "metadata": {},
   "outputs": [
    {
     "name": "stdout",
     "output_type": "stream",
     "text": [
      "+--------+-----------+------------+-------------------+---+-----------+-----+---+\n",
      "|order_id|customer_id|order_amount|Order_ts           |st |customer_id|name |st |\n",
      "+--------+-----------+------------+-------------------+---+-----------+-----+---+\n",
      "|7       |37         |19900.76    |2023-12-25 10:31:40|IL |37         |Bob37|IL |\n",
      "|11      |41         |19900.76    |2023-12-25 10:31:40|MI |41         |Bob41|MI |\n",
      "|11      |41         |19900.76    |2023-12-25 11:31:40|MI |41         |Bob41|MI |\n",
      "|2       |32         |19900.76    |2023-12-25 10:31:40|WI |32         |Bob32|WI |\n",
      "|10      |40         |19900.76    |2023-12-25 10:31:40|IL |40         |Bob40|IL |\n",
      "|6       |36         |19900.76    |2023-12-25 10:31:40|CA |36         |Bob36|CA |\n",
      "|4       |34         |19900.76    |2023-12-25 10:31:40|IL |34         |Bob34|IL |\n",
      "|3       |33         |19900.76    |2023-12-25 10:31:40|IL |33         |Bob33|IL |\n",
      "|9       |39         |19900.76    |2023-12-25 10:31:40|MI |39         |Bob39|MI |\n",
      "|5       |35         |19900.76    |2023-12-25 10:31:40|IL |35         |Bob35|IL |\n",
      "|1       |31         |19900.76    |2023-12-25 10:31:40|IL |31         |Bob31|IL |\n",
      "|8       |38         |19900.76    |2023-12-25 10:31:40|IL |38         |Bob38|IL |\n",
      "+--------+-----------+------------+-------------------+---+-----------+-----+---+\n",
      "\n"
     ]
    }
   ],
   "source": [
    "spark.sql(\"\"\"select * \n",
    "from iceberg_catalog.\"\"\"+prod_db_nm+\"\"\".order_h a,\n",
    "iceberg_catalog.\"\"\"+prod_db_nm+\"\"\".customer_h b\n",
    "where a.customer_id =b.customer_id \"\"\").show(100,False)\n"
   ]
  },
  {
   "cell_type": "markdown",
   "metadata": {},
   "source": [
    "### Order table Partition Pruneing "
   ]
  },
  {
   "cell_type": "code",
   "execution_count": 34,
   "metadata": {},
   "outputs": [
    {
     "name": "stdout",
     "output_type": "stream",
     "text": [
      "+--------+-----------+------------+-------------------+---+-----------+-----+---+\n",
      "|order_id|customer_id|order_amount|Order_ts           |st |customer_id|name |st |\n",
      "+--------+-----------+------------+-------------------+---+-----------+-----+---+\n",
      "|11      |41         |19900.76    |2023-12-25 10:31:40|MI |41         |Bob41|MI |\n",
      "|9       |39         |19900.76    |2023-12-25 10:31:40|MI |39         |Bob39|MI |\n",
      "+--------+-----------+------------+-------------------+---+-----------+-----+---+\n",
      "\n"
     ]
    }
   ],
   "source": [
    "spark.sql(\"\"\"select * \n",
    "from iceberg_catalog.\"\"\"+prod_db_nm+\"\"\".order_h a,\n",
    "iceberg_catalog.\"\"\"+prod_db_nm+\"\"\".customer_h b\n",
    "where a.customer_id =b.customer_id \n",
    "and a.Order_ts='2023-12-25T10:31:40'\n",
    "and a.st= 'MI' \"\"\").show(100,False)"
   ]
  },
  {
   "cell_type": "markdown",
   "metadata": {},
   "source": [
    "### customer table partition prune"
   ]
  },
  {
   "cell_type": "code",
   "execution_count": 35,
   "metadata": {},
   "outputs": [
    {
     "name": "stdout",
     "output_type": "stream",
     "text": [
      "+--------+-----------+------------+-------------------+---+-----------+-----+---+\n",
      "|order_id|customer_id|order_amount|Order_ts           |st |customer_id|name |st |\n",
      "+--------+-----------+------------+-------------------+---+-----------+-----+---+\n",
      "|1       |31         |19900.76    |2023-12-25 10:31:40|IL |31         |Bob31|IL |\n",
      "+--------+-----------+------------+-------------------+---+-----------+-----+---+\n",
      "\n"
     ]
    }
   ],
   "source": [
    "spark.sql(\"\"\"select * \n",
    "from iceberg_catalog.\"\"\"+prod_db_nm+\"\"\".order_h a,\n",
    "iceberg_catalog.\"\"\"+prod_db_nm+\"\"\".customer_h b\n",
    "where a.customer_id =b.customer_id \n",
    "and b.customer_id=31\"\"\").show(100,False)"
   ]
  },
  {
   "cell_type": "code",
   "execution_count": null,
   "metadata": {},
   "outputs": [],
   "source": []
  },
  {
   "cell_type": "markdown",
   "metadata": {},
   "source": [
    "# Alter Partition key"
   ]
  },
  {
   "cell_type": "code",
   "execution_count": 36,
   "metadata": {},
   "outputs": [
    {
     "name": "stdout",
     "output_type": "stream",
     "text": [
      "++\n",
      "||\n",
      "++\n",
      "++\n",
      "\n"
     ]
    },
    {
     "name": "stderr",
     "output_type": "stream",
     "text": [
      "ANTLR Tool version 4.9.3 used for code generation does not match the current runtime version 4.8ANTLR Runtime version 4.9.3 used for parser compilation does not match the current runtime version 4.8ANTLR Tool version 4.9.3 used for code generation does not match the current runtime version 4.8ANTLR Runtime version 4.9.3 used for parser compilation does not match the current runtime version 4.8"
     ]
    }
   ],
   "source": [
    "spark.sql(\"ALTER TABLE iceberg_catalog.\"+prod_db_nm+\".order_h ADD PARTITION field month(Order_ts)\").show(100,False)"
   ]
  },
  {
   "cell_type": "code",
   "execution_count": 37,
   "metadata": {},
   "outputs": [
    {
     "name": "stdout",
     "output_type": "stream",
     "text": [
      "+----------------------------+--------------------------------------------------------------------------------------------------------------------------------------------------------------------------------------------------------------------------------------------------+-------+\n",
      "|col_name                    |data_type                                                                                                                                                                                                                                         |comment|\n",
      "+----------------------------+--------------------------------------------------------------------------------------------------------------------------------------------------------------------------------------------------------------------------------------------------+-------+\n",
      "|order_id                    |bigint                                                                                                                                                                                                                                            |       |\n",
      "|customer_id                 |bigint                                                                                                                                                                                                                                            |       |\n",
      "|order_amount                |decimal(10,2)                                                                                                                                                                                                                                     |       |\n",
      "|Order_ts                    |timestamp                                                                                                                                                                                                                                         |       |\n",
      "|st                          |string                                                                                                                                                                                                                                            |       |\n",
      "|                            |                                                                                                                                                                                                                                                  |       |\n",
      "|# Partitioning              |                                                                                                                                                                                                                                                  |       |\n",
      "|Part 0                      |years(Order_ts)                                                                                                                                                                                                                                   |       |\n",
      "|Part 1                      |st                                                                                                                                                                                                                                                |       |\n",
      "|Part 2                      |months(Order_ts)                                                                                                                                                                                                                                  |       |\n",
      "|                            |                                                                                                                                                                                                                                                  |       |\n",
      "|# Metadata Columns          |                                                                                                                                                                                                                                                  |       |\n",
      "|_spec_id                    |int                                                                                                                                                                                                                                               |       |\n",
      "|_partition                  |struct<Order_ts_year:int,st:string,Order_ts_month:int>                                                                                                                                                                                            |       |\n",
      "|_file                       |string                                                                                                                                                                                                                                            |       |\n",
      "|_pos                        |bigint                                                                                                                                                                                                                                            |       |\n",
      "|_deleted                    |boolean                                                                                                                                                                                                                                           |       |\n",
      "|                            |                                                                                                                                                                                                                                                  |       |\n",
      "|# Detailed Table Information|                                                                                                                                                                                                                                                  |       |\n",
      "|Name                        |iceberg_catalog.db2.order_h                                                                                                                                                                                                                       |       |\n",
      "|Location                    |/tmp/ozone1/warehouse/db2/order_h                                                                                                                                                                                                                 |       |\n",
      "|Provider                    |iceberg                                                                                                                                                                                                                                           |       |\n",
      "|Owner                       |satyak                                                                                                                                                                                                                                            |       |\n",
      "|Table Properties            |[current-snapshot-id=6783611393837987028,format=iceberg/parquet,format-version=2,write.delete.mode=merge-on-read,write.format.default=parquet,write.merge.mode=merge-on-read,write.parquet.compression-codec=zstd,write.update.mode=merge-on-read]|       |\n",
      "+----------------------------+--------------------------------------------------------------------------------------------------------------------------------------------------------------------------------------------------------------------------------------------------+-------+\n",
      "\n"
     ]
    }
   ],
   "source": [
    "spark.sql(\"desc extended   iceberg_catalog.\"+prod_db_nm+\".order_h \").show(100,False)"
   ]
  },
  {
   "cell_type": "code",
   "execution_count": 38,
   "metadata": {},
   "outputs": [
    {
     "name": "stdout",
     "output_type": "stream",
     "text": [
      "/tmp/ozone1/warehouse/db2/order_h/data/Order_ts_year=2023/st=CA:\r\n",
      "total 8\r\n",
      "-rw-r--r--  1 satyak  wheel  1476 Jul 19 09:04 00149-1030-c7897cc9-e78f-40f1-9f0e-8f5c176f22e5-0-00001.parquet\r\n",
      "\r\n",
      "/tmp/ozone1/warehouse/db2/order_h/data/Order_ts_year=2023/st=IL:\r\n",
      "total 56\r\n",
      "-rw-r--r--  1 satyak  wheel  1476 Jul 19 09:04 00074-1231-3e32f5c1-b3a9-4d9b-a251-d6a07f13d1ce-0-00001.parquet\r\n",
      "-rw-r--r--  1 satyak  wheel  1476 Jul 19 09:04 00074-1432-73c71ebf-6562-430a-ac26-f7d684fb48eb-0-00001.parquet\r\n",
      "-rw-r--r--  1 satyak  wheel  1476 Jul 19 09:04 00074-1834-fc0c190b-f8d8-4614-891f-d980173f3f49-0-00001.parquet\r\n",
      "-rw-r--r--  1 satyak  wheel  1476 Jul 19 09:04 00074-25-d0d8ac17-10cf-439f-a988-9028f2317920-0-00001.parquet\r\n",
      "-rw-r--r--  1 satyak  wheel  1476 Jul 19 09:04 00074-427-41eb14c7-3e91-48b3-886d-ef2341e0cf3a-0-00001.parquet\r\n",
      "-rw-r--r--  1 satyak  wheel  1476 Jul 19 09:04 00074-628-4a2be96b-9eab-40a8-ba8f-8a748073c901-0-00001.parquet\r\n",
      "-rw-r--r--  1 satyak  wheel  1476 Jul 19 09:04 00074-829-43097a35-5dc3-4321-855b-fc9553d4b5ab-0-00001.parquet\r\n",
      "\r\n",
      "/tmp/ozone1/warehouse/db2/order_h/data/Order_ts_year=2023/st=MI:\r\n",
      "total 24\r\n",
      "-rw-r--r--  1 satyak  wheel  1476 Jul 19 09:04 00161-1633-85a7368c-fe8d-4044-86f8-7dd5a31e5d8b-0-00001.parquet\r\n",
      "-rw-r--r--  1 satyak  wheel  1476 Jul 19 09:04 00161-2035-1a382e5a-7544-4353-9d90-5a5c6181b34e-0-00001.parquet\r\n",
      "-rw-r--r--  1 satyak  wheel  1476 Jul 19 09:04 00161-2236-fb9a00bb-16e2-48bb-b94e-be614d8840f0-0-00001.parquet\r\n",
      "\r\n",
      "/tmp/ozone1/warehouse/db2/order_h/data/Order_ts_year=2023/st=WI:\r\n",
      "total 8\r\n",
      "-rw-r--r--  1 satyak  wheel  1475 Jul 19 09:04 00127-226-5fc91e93-af1c-4212-bbae-f723307616bb-0-00001.parquet\r\n"
     ]
    }
   ],
   "source": [
    "!ls -l /tmp/ozone1/warehouse/db2/order_h/data/*/*"
   ]
  },
  {
   "cell_type": "code",
   "execution_count": 39,
   "metadata": {},
   "outputs": [
    {
     "data": {
      "text/plain": [
       "DataFrame[]"
      ]
     },
     "execution_count": 39,
     "metadata": {},
     "output_type": "execute_result"
    }
   ],
   "source": [
    "spark.sql(\"insert into iceberg_catalog.db2.order_h values(1112, 4112, 19900.76,timestamp '2023-11-25T11:31:40', 'MI')\")\n"
   ]
  },
  {
   "cell_type": "code",
   "execution_count": 40,
   "metadata": {},
   "outputs": [
    {
     "data": {
      "text/plain": [
       "DataFrame[]"
      ]
     },
     "execution_count": 40,
     "metadata": {},
     "output_type": "execute_result"
    }
   ],
   "source": [
    "spark.sql(\"insert into iceberg_catalog.db2.customer_h values(4112, 'Bob411','MI')\")\n"
   ]
  },
  {
   "cell_type": "code",
   "execution_count": 41,
   "metadata": {},
   "outputs": [
    {
     "data": {
      "text/plain": [
       "DataFrame[]"
      ]
     },
     "execution_count": 41,
     "metadata": {},
     "output_type": "execute_result"
    }
   ],
   "source": [
    "spark.sql(\"insert into iceberg_catalog.db2.order_h values(8181, 99, 19900.76,timestamp '2024-06-25T11:31:40', 'MI')\")\n"
   ]
  },
  {
   "cell_type": "markdown",
   "metadata": {},
   "source": [
    "### Check file directory"
   ]
  },
  {
   "cell_type": "code",
   "execution_count": 42,
   "metadata": {},
   "outputs": [
    {
     "name": "stdout",
     "output_type": "stream",
     "text": [
      "-rw-r--r--  1 satyak  wheel  1476 Jul 19 09:04 /tmp/ozone1/warehouse/db2/order_h/data/Order_ts_year=2023/st=CA/00149-1030-c7897cc9-e78f-40f1-9f0e-8f5c176f22e5-0-00001.parquet\r\n",
      "-rw-r--r--  1 satyak  wheel  1476 Jul 19 09:04 /tmp/ozone1/warehouse/db2/order_h/data/Order_ts_year=2023/st=IL/00074-1231-3e32f5c1-b3a9-4d9b-a251-d6a07f13d1ce-0-00001.parquet\r\n",
      "-rw-r--r--  1 satyak  wheel  1476 Jul 19 09:04 /tmp/ozone1/warehouse/db2/order_h/data/Order_ts_year=2023/st=IL/00074-1432-73c71ebf-6562-430a-ac26-f7d684fb48eb-0-00001.parquet\r\n",
      "-rw-r--r--  1 satyak  wheel  1476 Jul 19 09:04 /tmp/ozone1/warehouse/db2/order_h/data/Order_ts_year=2023/st=IL/00074-1834-fc0c190b-f8d8-4614-891f-d980173f3f49-0-00001.parquet\r\n",
      "-rw-r--r--  1 satyak  wheel  1476 Jul 19 09:04 /tmp/ozone1/warehouse/db2/order_h/data/Order_ts_year=2023/st=IL/00074-25-d0d8ac17-10cf-439f-a988-9028f2317920-0-00001.parquet\r\n",
      "-rw-r--r--  1 satyak  wheel  1476 Jul 19 09:04 /tmp/ozone1/warehouse/db2/order_h/data/Order_ts_year=2023/st=IL/00074-427-41eb14c7-3e91-48b3-886d-ef2341e0cf3a-0-00001.parquet\r\n",
      "-rw-r--r--  1 satyak  wheel  1476 Jul 19 09:04 /tmp/ozone1/warehouse/db2/order_h/data/Order_ts_year=2023/st=IL/00074-628-4a2be96b-9eab-40a8-ba8f-8a748073c901-0-00001.parquet\r\n",
      "-rw-r--r--  1 satyak  wheel  1476 Jul 19 09:04 /tmp/ozone1/warehouse/db2/order_h/data/Order_ts_year=2023/st=IL/00074-829-43097a35-5dc3-4321-855b-fc9553d4b5ab-0-00001.parquet\r\n",
      "-rw-r--r--  1 satyak  wheel  1476 Jul 19 09:04 /tmp/ozone1/warehouse/db2/order_h/data/Order_ts_year=2023/st=MI/00161-1633-85a7368c-fe8d-4044-86f8-7dd5a31e5d8b-0-00001.parquet\r\n",
      "-rw-r--r--  1 satyak  wheel  1476 Jul 19 09:04 /tmp/ozone1/warehouse/db2/order_h/data/Order_ts_year=2023/st=MI/00161-2035-1a382e5a-7544-4353-9d90-5a5c6181b34e-0-00001.parquet\r\n",
      "-rw-r--r--  1 satyak  wheel  1476 Jul 19 09:04 /tmp/ozone1/warehouse/db2/order_h/data/Order_ts_year=2023/st=MI/00161-2236-fb9a00bb-16e2-48bb-b94e-be614d8840f0-0-00001.parquet\r\n",
      "-rw-r--r--  1 satyak  wheel  1475 Jul 19 09:04 /tmp/ozone1/warehouse/db2/order_h/data/Order_ts_year=2023/st=WI/00127-226-5fc91e93-af1c-4212-bbae-f723307616bb-0-00001.parquet\r\n",
      "\r\n",
      "/tmp/ozone1/warehouse/db2/order_h/data/Order_ts_year=2023/st=MI/Order_ts_month=2023-11:\r\n",
      "total 8\r\n",
      "-rw-r--r--  1 satyak  wheel  1476 Jul 19 09:12 00001-4684-87a59548-11a6-49f9-9257-e1069c248fa0-0-00001.parquet\r\n",
      "\r\n",
      "/tmp/ozone1/warehouse/db2/order_h/data/Order_ts_year=2024/st=MI/Order_ts_month=2024-06:\r\n",
      "total 8\r\n",
      "-rw-r--r--  1 satyak  wheel  1476 Jul 19 09:12 00009-5086-98d52a29-7697-4411-a2dc-baf5986311b6-0-00001.parquet\r\n"
     ]
    }
   ],
   "source": [
    "!ls -l /tmp/ozone1/warehouse/db2/order_h/data/*/*/*"
   ]
  },
  {
   "cell_type": "code",
   "execution_count": 43,
   "metadata": {},
   "outputs": [
    {
     "name": "stdout",
     "output_type": "stream",
     "text": [
      "+--------+-----------+------------+-------------------+---+---------------+\n",
      "|order_id|customer_id|order_amount|Order_ts           |st |month(Order_ts)|\n",
      "+--------+-----------+------------+-------------------+---+---------------+\n",
      "|8181    |99         |19900.76    |2024-06-25 11:31:40|MI |6              |\n",
      "+--------+-----------+------------+-------------------+---+---------------+\n",
      "\n"
     ]
    }
   ],
   "source": [
    "spark.sql(\"\"\"select * ,month(Order_ts)\n",
    "from iceberg_catalog.\"\"\"+prod_db_nm+\"\"\".order_h a\n",
    "where order_id =8181 \"\"\").show(100,False)"
   ]
  },
  {
   "cell_type": "code",
   "execution_count": 44,
   "metadata": {},
   "outputs": [
    {
     "name": "stdout",
     "output_type": "stream",
     "text": [
      "+--------+-----------+------------+-------------------+---+---------------+\n",
      "|order_id|customer_id|order_amount|Order_ts           |st |month(Order_ts)|\n",
      "+--------+-----------+------------+-------------------+---+---------------+\n",
      "|8181    |99         |19900.76    |2024-06-25 11:31:40|MI |6              |\n",
      "+--------+-----------+------------+-------------------+---+---------------+\n",
      "\n"
     ]
    }
   ],
   "source": [
    "spark.sql(\"\"\"select * ,month(Order_ts)\n",
    "from iceberg_catalog.\"\"\"+prod_db_nm+\"\"\".order_h a\n",
    "where Order_ts between '2024-05-25T00:00:00' and '2024-07-25T00:00:00' \"\"\").show(100,False)"
   ]
  },
  {
   "cell_type": "code",
   "execution_count": 45,
   "metadata": {},
   "outputs": [
    {
     "name": "stdout",
     "output_type": "stream",
     "text": [
      "+--------+-----------+------------+-------------------+---+---------------+\n",
      "|order_id|customer_id|order_amount|Order_ts           |st |month(Order_ts)|\n",
      "+--------+-----------+------------+-------------------+---+---------------+\n",
      "|8181    |99         |19900.76    |2024-06-25 11:31:40|MI |6              |\n",
      "+--------+-----------+------------+-------------------+---+---------------+\n",
      "\n"
     ]
    }
   ],
   "source": [
    "spark.sql(\"\"\"select * ,month(Order_ts)\n",
    "from iceberg_catalog.\"\"\"+prod_db_nm+\"\"\".order_h a\n",
    "where Order_ts between '2024-06-25T11:00:00' and '2024-06-25T11:59:59' \"\"\").show(100,False)"
   ]
  },
  {
   "cell_type": "code",
   "execution_count": null,
   "metadata": {},
   "outputs": [],
   "source": []
  },
  {
   "cell_type": "markdown",
   "metadata": {},
   "source": [
    "### Re write data files"
   ]
  },
  {
   "cell_type": "code",
   "execution_count": 46,
   "metadata": {},
   "outputs": [
    {
     "name": "stdout",
     "output_type": "stream",
     "text": [
      "+--------------------------+----------------------+---------------------+\n",
      "|rewritten_data_files_count|added_data_files_count|rewritten_bytes_count|\n",
      "+--------------------------+----------------------+---------------------+\n",
      "|                        12|                     4|                17711|\n",
      "+--------------------------+----------------------+---------------------+\n",
      "\n"
     ]
    }
   ],
   "source": [
    "spark.sql(\"CALL iceberg_catalog.system.rewrite_data_files(\\\n",
    "table => 'iceberg_catalog.\"+prod_db_nm+\".order_h', \\\n",
    "options => map('target-file-size-bytes','40240000'))\").show()"
   ]
  },
  {
   "cell_type": "code",
   "execution_count": 47,
   "metadata": {},
   "outputs": [
    {
     "name": "stdout",
     "output_type": "stream",
     "text": [
      "-rw-r--r--  1 satyak  wheel  1476 Jul 19 09:04 /tmp/ozone1/warehouse/db2/order_h/data/Order_ts_year=2023/st=CA/00149-1030-c7897cc9-e78f-40f1-9f0e-8f5c176f22e5-0-00001.parquet\r\n",
      "-rw-r--r--  1 satyak  wheel  1476 Jul 19 09:04 /tmp/ozone1/warehouse/db2/order_h/data/Order_ts_year=2023/st=IL/00074-1231-3e32f5c1-b3a9-4d9b-a251-d6a07f13d1ce-0-00001.parquet\r\n",
      "-rw-r--r--  1 satyak  wheel  1476 Jul 19 09:04 /tmp/ozone1/warehouse/db2/order_h/data/Order_ts_year=2023/st=IL/00074-1432-73c71ebf-6562-430a-ac26-f7d684fb48eb-0-00001.parquet\r\n",
      "-rw-r--r--  1 satyak  wheel  1476 Jul 19 09:04 /tmp/ozone1/warehouse/db2/order_h/data/Order_ts_year=2023/st=IL/00074-1834-fc0c190b-f8d8-4614-891f-d980173f3f49-0-00001.parquet\r\n",
      "-rw-r--r--  1 satyak  wheel  1476 Jul 19 09:04 /tmp/ozone1/warehouse/db2/order_h/data/Order_ts_year=2023/st=IL/00074-25-d0d8ac17-10cf-439f-a988-9028f2317920-0-00001.parquet\r\n",
      "-rw-r--r--  1 satyak  wheel  1476 Jul 19 09:04 /tmp/ozone1/warehouse/db2/order_h/data/Order_ts_year=2023/st=IL/00074-427-41eb14c7-3e91-48b3-886d-ef2341e0cf3a-0-00001.parquet\r\n",
      "-rw-r--r--  1 satyak  wheel  1476 Jul 19 09:04 /tmp/ozone1/warehouse/db2/order_h/data/Order_ts_year=2023/st=IL/00074-628-4a2be96b-9eab-40a8-ba8f-8a748073c901-0-00001.parquet\r\n",
      "-rw-r--r--  1 satyak  wheel  1476 Jul 19 09:04 /tmp/ozone1/warehouse/db2/order_h/data/Order_ts_year=2023/st=IL/00074-829-43097a35-5dc3-4321-855b-fc9553d4b5ab-0-00001.parquet\r\n",
      "-rw-r--r--  1 satyak  wheel  1476 Jul 19 09:04 /tmp/ozone1/warehouse/db2/order_h/data/Order_ts_year=2023/st=MI/00161-1633-85a7368c-fe8d-4044-86f8-7dd5a31e5d8b-0-00001.parquet\r\n",
      "-rw-r--r--  1 satyak  wheel  1476 Jul 19 09:04 /tmp/ozone1/warehouse/db2/order_h/data/Order_ts_year=2023/st=MI/00161-2035-1a382e5a-7544-4353-9d90-5a5c6181b34e-0-00001.parquet\r\n",
      "-rw-r--r--  1 satyak  wheel  1476 Jul 19 09:04 /tmp/ozone1/warehouse/db2/order_h/data/Order_ts_year=2023/st=MI/00161-2236-fb9a00bb-16e2-48bb-b94e-be614d8840f0-0-00001.parquet\r\n",
      "-rw-r--r--  1 satyak  wheel  1475 Jul 19 09:04 /tmp/ozone1/warehouse/db2/order_h/data/Order_ts_year=2023/st=WI/00127-226-5fc91e93-af1c-4212-bbae-f723307616bb-0-00001.parquet\r\n",
      "\r\n",
      "/tmp/ozone1/warehouse/db2/order_h/data/Order_ts_year=2023/st=CA/Order_ts_month=2023-12:\r\n",
      "total 8\r\n",
      "-rw-r--r--  1 satyak  wheel  1516 Jul 19 09:14 00000-5291-53cb60af-d334-47f1-b467-4b76b5034f04-0-00001.parquet\r\n",
      "\r\n",
      "/tmp/ozone1/warehouse/db2/order_h/data/Order_ts_year=2023/st=IL/Order_ts_month=2023-12:\r\n",
      "total 8\r\n",
      "-rw-r--r--  1 satyak  wheel  1690 Jul 19 09:14 00001-5292-53cb60af-d334-47f1-b467-4b76b5034f04-0-00001.parquet\r\n",
      "\r\n",
      "/tmp/ozone1/warehouse/db2/order_h/data/Order_ts_year=2023/st=MI/Order_ts_month=2023-11:\r\n",
      "total 8\r\n",
      "-rw-r--r--  1 satyak  wheel  1476 Jul 19 09:12 00001-4684-87a59548-11a6-49f9-9257-e1069c248fa0-0-00001.parquet\r\n",
      "\r\n",
      "/tmp/ozone1/warehouse/db2/order_h/data/Order_ts_year=2023/st=MI/Order_ts_month=2023-12:\r\n",
      "total 8\r\n",
      "-rw-r--r--  1 satyak  wheel  1753 Jul 19 09:14 00002-5293-53cb60af-d334-47f1-b467-4b76b5034f04-0-00001.parquet\r\n",
      "\r\n",
      "/tmp/ozone1/warehouse/db2/order_h/data/Order_ts_year=2023/st=WI/Order_ts_month=2023-12:\r\n",
      "total 8\r\n",
      "-rw-r--r--  1 satyak  wheel  1516 Jul 19 09:14 00003-5294-53cb60af-d334-47f1-b467-4b76b5034f04-0-00001.parquet\r\n",
      "\r\n",
      "/tmp/ozone1/warehouse/db2/order_h/data/Order_ts_year=2024/st=MI/Order_ts_month=2024-06:\r\n",
      "total 8\r\n",
      "-rw-r--r--  1 satyak  wheel  1476 Jul 19 09:12 00009-5086-98d52a29-7697-4411-a2dc-baf5986311b6-0-00001.parquet\r\n"
     ]
    }
   ],
   "source": [
    "!ls -l /tmp/ozone1/warehouse/db2/order_h/data/*/*/*"
   ]
  },
  {
   "cell_type": "code",
   "execution_count": null,
   "metadata": {},
   "outputs": [],
   "source": []
  },
  {
   "cell_type": "code",
   "execution_count": null,
   "metadata": {},
   "outputs": [],
   "source": []
  }
 ],
 "metadata": {
  "kernelspec": {
   "display_name": "Python 3 (ipykernel)",
   "language": "python",
   "name": "python3"
  },
  "language_info": {
   "codemirror_mode": {
    "name": "ipython",
    "version": 3
   },
   "file_extension": ".py",
   "mimetype": "text/x-python",
   "name": "python",
   "nbconvert_exporter": "python",
   "pygments_lexer": "ipython3",
   "version": "3.9.1"
  }
 },
 "nbformat": 4,
 "nbformat_minor": 4
}
